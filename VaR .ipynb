{
 "cells": [
  {
   "cell_type": "code",
   "execution_count": 3,
   "metadata": {},
   "outputs": [],
   "source": [
    "import numpy as np\n",
    "import pandas as pd\n",
    "from arch import arch_model\n",
    "import statsmodels.formula.api as sm\n",
    "import statsmodels.api as sm\n",
    "import matplotlib.pyplot as plt\n",
    "from scipy.special import gamma\n",
    "import scipy.stats as stats"
   ]
  },
  {
   "cell_type": "code",
   "execution_count": 4,
   "metadata": {},
   "outputs": [
    {
     "data": {
      "text/html": [
       "<div>\n",
       "<style scoped>\n",
       "    .dataframe tbody tr th:only-of-type {\n",
       "        vertical-align: middle;\n",
       "    }\n",
       "\n",
       "    .dataframe tbody tr th {\n",
       "        vertical-align: top;\n",
       "    }\n",
       "\n",
       "    .dataframe thead th {\n",
       "        text-align: right;\n",
       "    }\n",
       "</style>\n",
       "<table border=\"1\" class=\"dataframe\">\n",
       "  <thead>\n",
       "    <tr style=\"text-align: right;\">\n",
       "      <th></th>\n",
       "      <th>SP500</th>\n",
       "      <th>Apple</th>\n",
       "    </tr>\n",
       "    <tr>\n",
       "      <th>Date</th>\n",
       "      <th></th>\n",
       "      <th></th>\n",
       "    </tr>\n",
       "  </thead>\n",
       "  <tbody>\n",
       "    <tr>\n",
       "      <th>1999-12-31</th>\n",
       "      <td>1469.250000</td>\n",
       "      <td>2.485700</td>\n",
       "    </tr>\n",
       "    <tr>\n",
       "      <th>2000-01-03</th>\n",
       "      <td>1455.219971</td>\n",
       "      <td>2.706315</td>\n",
       "    </tr>\n",
       "    <tr>\n",
       "      <th>2000-01-04</th>\n",
       "      <td>1399.420044</td>\n",
       "      <td>2.478144</td>\n",
       "    </tr>\n",
       "    <tr>\n",
       "      <th>2000-01-05</th>\n",
       "      <td>1402.109985</td>\n",
       "      <td>2.514410</td>\n",
       "    </tr>\n",
       "    <tr>\n",
       "      <th>2000-01-06</th>\n",
       "      <td>1403.449951</td>\n",
       "      <td>2.296816</td>\n",
       "    </tr>\n",
       "  </tbody>\n",
       "</table>\n",
       "</div>"
      ],
      "text/plain": [
       "                  SP500     Apple\n",
       "Date                             \n",
       "1999-12-31  1469.250000  2.485700\n",
       "2000-01-03  1455.219971  2.706315\n",
       "2000-01-04  1399.420044  2.478144\n",
       "2000-01-05  1402.109985  2.514410\n",
       "2000-01-06  1403.449951  2.296816"
      ]
     },
     "execution_count": 4,
     "metadata": {},
     "output_type": "execute_result"
    }
   ],
   "source": [
    "##import the data\n",
    "data=pd.read_csv('Downloads\\Apple.csv',parse_dates=True)\n",
    "##make date as index. \n",
    "##change date format \n",
    "data['Date'] = pd.to_datetime(data['Date'], format='%d/%m/%Y')\n",
    "data.set_index(\"Date\", inplace=True)\n",
    "data.head()"
   ]
  },
  {
   "cell_type": "code",
   "execution_count": 5,
   "metadata": {},
   "outputs": [],
   "source": [
    "##log return of apple and sp500\n",
    "R1t=data['SP500']\n",
    "R1t=100*np.log10(1+R1t.pct_change().dropna())\n",
    "R2t=data['Apple']\n",
    "R2t=100*np.log10(1+R2t.pct_change().dropna())"
   ]
  },
  {
   "cell_type": "code",
   "execution_count": 6,
   "metadata": {},
   "outputs": [
    {
     "name": "stdout",
     "output_type": "stream",
     "text": [
      "Iteration:      1,   Func. Count:      8,   Neg. LLF: 2275.00764903936\n",
      "Iteration:      2,   Func. Count:     21,   Neg. LLF: 2274.970496736821\n",
      "Iteration:      3,   Func. Count:     31,   Neg. LLF: 2271.0902533558874\n",
      "Iteration:      4,   Func. Count:     40,   Neg. LLF: 2261.6836276499007\n",
      "Iteration:      5,   Func. Count:     49,   Neg. LLF: 2259.672376572375\n",
      "Iteration:      6,   Func. Count:     58,   Neg. LLF: 2257.0200792103096\n",
      "Iteration:      7,   Func. Count:     67,   Neg. LLF: 2255.863760397715\n",
      "Iteration:      8,   Func. Count:     76,   Neg. LLF: 2254.4286477743917\n",
      "Iteration:      9,   Func. Count:     85,   Neg. LLF: 2254.075635202681\n",
      "Iteration:     10,   Func. Count:     94,   Neg. LLF: 2253.569190216979\n",
      "Iteration:     11,   Func. Count:    102,   Neg. LLF: 2252.5882876343653\n",
      "Iteration:     12,   Func. Count:    110,   Neg. LLF: 2252.561109712864\n",
      "Iteration:     13,   Func. Count:    118,   Neg. LLF: 2252.5605775372815\n",
      "Iteration:     14,   Func. Count:    126,   Neg. LLF: 2252.5605107819592\n",
      "Iteration:     15,   Func. Count:    134,   Neg. LLF: 2252.560503121288\n",
      "Optimization terminated successfully.    (Exit mode 0)\n",
      "            Current function value: 2252.560503121285\n",
      "            Iterations: 15\n",
      "            Function evaluations: 134\n",
      "            Gradient evaluations: 15\n",
      "                      Constant Mean - GJR-GARCH Model Results                       \n",
      "====================================================================================\n",
      "Dep. Variable:                        SP500   R-squared:                      -0.000\n",
      "Mean Model:                   Constant Mean   Adj. R-squared:                 -0.000\n",
      "Vol Model:                        GJR-GARCH   Log-Likelihood:               -2252.56\n",
      "Distribution:      Standardized Student's t   AIC:                           4517.12\n",
      "Method:                  Maximum Likelihood   BIC:                           4555.63\n",
      "                                              No. Observations:                 4528\n",
      "Date:                      Sun, Mar 15 2020   Df Residuals:                     4522\n",
      "Time:                              22:31:50   Df Model:                            6\n",
      "                                 Mean Model                                 \n",
      "============================================================================\n",
      "                 coef    std err          t      P>|t|      95.0% Conf. Int.\n",
      "----------------------------------------------------------------------------\n",
      "mu             0.0155  4.736e-03      3.272  1.067e-03 [6.216e-03,2.478e-02]\n",
      "                               Volatility Model                              \n",
      "=============================================================================\n",
      "                 coef    std err          t      P>|t|       95.0% Conf. Int.\n",
      "-----------------------------------------------------------------------------\n",
      "omega      2.2460e-03  6.061e-04      3.706  2.109e-04  [1.058e-03,3.434e-03]\n",
      "alpha[1]       0.0000  1.167e-02      0.000      1.000 [-2.287e-02,2.287e-02]\n",
      "gamma[1]       0.1776  2.353e-02      7.549  4.402e-14      [  0.131,  0.224]\n",
      "beta[1]        0.9010  1.622e-02     55.532      0.000      [  0.869,  0.933]\n",
      "                              Distribution                              \n",
      "========================================================================\n",
      "                 coef    std err          t      P>|t|  95.0% Conf. Int.\n",
      "------------------------------------------------------------------------\n",
      "nu             7.5235      0.889      8.467  2.521e-17 [  5.782,  9.265]\n",
      "========================================================================\n",
      "\n",
      "Covariance estimator: robust\n",
      "Iteration:      1,   Func. Count:      8,   Neg. LLF: 6023.464560433013\n",
      "Iteration:      2,   Func. Count:     20,   Neg. LLF: 6021.958866737577\n",
      "Iteration:      3,   Func. Count:     30,   Neg. LLF: 6020.76340453744\n",
      "Iteration:      4,   Func. Count:     40,   Neg. LLF: 6020.392812882672\n",
      "Iteration:      5,   Func. Count:     49,   Neg. LLF: 6017.193502834656\n",
      "Iteration:      6,   Func. Count:     58,   Neg. LLF: 6010.794565824938\n",
      "Iteration:      7,   Func. Count:     67,   Neg. LLF: 6007.244799229795\n",
      "Iteration:      8,   Func. Count:     76,   Neg. LLF: 6004.700444702199\n",
      "Iteration:      9,   Func. Count:     85,   Neg. LLF: 6003.689714689219\n",
      "Iteration:     10,   Func. Count:     94,   Neg. LLF: 6001.818573523541\n",
      "Iteration:     11,   Func. Count:    103,   Neg. LLF: 6001.355794387067\n",
      "Iteration:     12,   Func. Count:    112,   Neg. LLF: 6000.908208761035\n",
      "Iteration:     13,   Func. Count:    121,   Neg. LLF: 6000.647972135331\n",
      "Iteration:     14,   Func. Count:    131,   Neg. LLF: 6000.634263857086\n",
      "Iteration:     15,   Func. Count:    140,   Neg. LLF: 6000.553491292296\n",
      "Iteration:     16,   Func. Count:    149,   Neg. LLF: 6000.5418432539445\n",
      "Iteration:     17,   Func. Count:    159,   Neg. LLF: 6000.5409295842655\n",
      "Iteration:     18,   Func. Count:    167,   Neg. LLF: 6000.53559898116\n",
      "Iteration:     19,   Func. Count:    175,   Neg. LLF: 6000.530189453981\n",
      "Iteration:     20,   Func. Count:    183,   Neg. LLF: 6000.5301479089685\n",
      "Iteration:     21,   Func. Count:    191,   Neg. LLF: 6000.530137969454\n",
      "Optimization terminated successfully.    (Exit mode 0)\n",
      "            Current function value: 6000.530137969463\n",
      "            Iterations: 21\n",
      "            Function evaluations: 191\n",
      "            Gradient evaluations: 21\n"
     ]
    }
   ],
   "source": [
    "##SP500--student t \n",
    "am1=arch_model(R1t,p=1,o=1,q=1,dist='StudentsT')\n",
    "resR1t=am1.fit()\n",
    "print(resR1t.summary())\n",
    "sigma1=resR1t.conditional_volatility\n",
    "z1=resR1t.resid/sigma1\n",
    "z1=(z1-z1.mean())/z1.std()\n",
    "##APPLE-- student t\n",
    "am2=arch_model(R2t,p=1,o=1,q=1,dist='StudentsT')\n",
    "resR2t=am2.fit()\n",
    "resR2t.summary()\n",
    "sigma2=resR2t.conditional_volatility\n",
    "z2=resR2t.resid/sigma2\n",
    "z2=(z2-z2.mean())/z2.std()\n",
    "\n"
   ]
  },
  {
   "cell_type": "code",
   "execution_count": 7,
   "metadata": {},
   "outputs": [
    {
     "data": {
      "text/plain": [
       "Text(0,0.5,'$z2$')"
      ]
     },
     "execution_count": 7,
     "metadata": {},
     "output_type": "execute_result"
    },
    {
     "data": {
      "image/png": "[encoded data removed]",
      "text/plain": [
       "<Figure size 432x288 with 1 Axes>"
      ]
     },
     "metadata": {
      "needs_background": "light"
     },
     "output_type": "display_data"
    }
   ],
   "source": [
    "##plot z1 against z2\n",
    "plt.scatter(z1,z2)\n",
    "plt.xlabel('$z1$')\n",
    "plt.ylabel('$z2$')"
   ]
  },
  {
   "cell_type": "code",
   "execution_count": 8,
   "metadata": {},
   "outputs": [
    {
     "name": "stdout",
     "output_type": "stream",
     "text": [
      "[[1.         0.50444736]\n",
      " [0.50444736 1.        ]]\n"
     ]
    }
   ],
   "source": [
    "##correlation between z1 and z2\n",
    "corr=np.corrcoef(z1,z2)\n",
    "print(corr)"
   ]
  },
  {
   "cell_type": "code",
   "execution_count": 10,
   "metadata": {},
   "outputs": [
    {
     "data": {
      "text/plain": [
       "Date\n",
       "2000-01-03         NaN\n",
       "2000-01-04   -1.128849\n",
       "2000-01-05    0.200792\n",
       "2000-01-06    0.309132\n",
       "2000-01-07    0.255522\n",
       "dtype: float64"
      ]
     },
     "execution_count": 10,
     "metadata": {},
     "output_type": "execute_result"
    }
   ],
   "source": [
    "##Estimate the conditional correlation(EWMA)\n",
    "##EWMA method to z1 z2 and z1*z2\n",
    "#Input parameter λ = 0.94 (so alpha = 0.06 in the built-in Pandas procedure)\n",
    "labda = 0.94\n",
    "z1sq = (z1**2).shift(1)\n",
    "q11t = np.square(z1sq.ewm(alpha=1-labda).mean())\n",
    "z2sq = (z2**2).shift(1)\n",
    "q22t = np.square(z2sq.ewm(alpha=1-labda).mean())\n",
    "z1z2 = z1*z2\n",
    "z1z2sq=(z1z2).shift(1)\n",
    "q12t =z1z2sq.ewm(alpha=1-labda).mean()\n",
    "rho=q12t/np.sqrt(q11t*q22t)\n",
    "rho.head()"
   ]
  },
  {
   "cell_type": "code",
   "execution_count": 13,
   "metadata": {
    "scrolled": true
   },
   "outputs": [
    {
     "data": {
      "text/plain": [
       "<matplotlib.axes._subplots.AxesSubplot at 0x21288856f60>"
      ]
     },
     "execution_count": 13,
     "metadata": {},
     "output_type": "execute_result"
    },
    {
     "data": {
      "image/png": "[encoded data removed]",
      "text/plain": [
       "<Figure size 432x288 with 1 Axes>"
      ]
     },
     "metadata": {
      "needs_background": "light"
     },
     "output_type": "display_data"
    }
   ],
   "source": [
    "#plot rho\n",
    "\n",
    "rho.plot()"
   ]
  },
  {
   "cell_type": "code",
   "execution_count": 12,
   "metadata": {},
   "outputs": [
    {
     "name": "stderr",
     "output_type": "stream",
     "text": [
      "C:\\Users\\sunju\\Anaconda3\\lib\\site-packages\\ipykernel_launcher.py:5: RuntimeWarning: invalid value encountered in sqrt\n",
      "  \"\"\"\n"
     ]
    }
   ],
   "source": [
    "#construct weights\n",
    "w1t= sigma2.shift(-1)/(sigma1.shift(-1)+ sigma2.shift(-1))\n",
    "w2t=1-w1t\n",
    "#Contruct portfolio return series\n",
    "R_port=w1t*R1t.shift(-1)+w2t*R2t.shift(-1)\n",
    "sigma_port=np.sqrt(w1t**2*sigma1.shift(-1)**2+w2t**2*sigma2.shift(-1)**2+2*w1t*w2t*sigma1.shift(-1)*sigma2.shift(-1)*rho.shift(-1))\n"
   ]
  },
  {
   "cell_type": "code",
   "execution_count": 15,
   "metadata": {},
   "outputs": [
    {
     "data": {
      "text/html": [
       "<div>\n",
       "<style scoped>\n",
       "    .dataframe tbody tr th:only-of-type {\n",
       "        vertical-align: middle;\n",
       "    }\n",
       "\n",
       "    .dataframe tbody tr th {\n",
       "        vertical-align: top;\n",
       "    }\n",
       "\n",
       "    .dataframe thead th {\n",
       "        text-align: right;\n",
       "    }\n",
       "</style>\n",
       "<table border=\"1\" class=\"dataframe\">\n",
       "  <thead>\n",
       "    <tr style=\"text-align: right;\">\n",
       "      <th></th>\n",
       "      <th>SP500</th>\n",
       "      <th>Apple</th>\n",
       "      <th>R1t</th>\n",
       "      <th>R2t</th>\n",
       "      <th>R_port</th>\n",
       "      <th>sigma_port</th>\n",
       "      <th>w1t</th>\n",
       "      <th>sigma1</th>\n",
       "      <th>sigma2</th>\n",
       "      <th>w2t</th>\n",
       "    </tr>\n",
       "    <tr>\n",
       "      <th>Date</th>\n",
       "      <th></th>\n",
       "      <th></th>\n",
       "      <th></th>\n",
       "      <th></th>\n",
       "      <th></th>\n",
       "      <th></th>\n",
       "      <th></th>\n",
       "      <th></th>\n",
       "      <th></th>\n",
       "      <th></th>\n",
       "    </tr>\n",
       "  </thead>\n",
       "  <tbody>\n",
       "    <tr>\n",
       "      <th>1999-12-31</th>\n",
       "      <td>1469.250000</td>\n",
       "      <td>2.485700</td>\n",
       "      <td>NaN</td>\n",
       "      <td>NaN</td>\n",
       "      <td>NaN</td>\n",
       "      <td>NaN</td>\n",
       "      <td>0.776019</td>\n",
       "      <td>NaN</td>\n",
       "      <td>NaN</td>\n",
       "      <td>0.223981</td>\n",
       "    </tr>\n",
       "    <tr>\n",
       "      <th>2000-01-03</th>\n",
       "      <td>1455.219971</td>\n",
       "      <td>2.706315</td>\n",
       "      <td>-0.416705</td>\n",
       "      <td>3.692963</td>\n",
       "      <td>-2.165170</td>\n",
       "      <td>NaN</td>\n",
       "      <td>0.780401</td>\n",
       "      <td>0.691223</td>\n",
       "      <td>2.394850</td>\n",
       "      <td>0.219599</td>\n",
       "    </tr>\n",
       "    <tr>\n",
       "      <th>2000-01-04</th>\n",
       "      <td>1399.420044</td>\n",
       "      <td>2.478144</td>\n",
       "      <td>-1.698056</td>\n",
       "      <td>-3.825181</td>\n",
       "      <td>0.235256</td>\n",
       "      <td>1.087840</td>\n",
       "      <td>0.722664</td>\n",
       "      <td>0.682571</td>\n",
       "      <td>2.425691</td>\n",
       "      <td>0.277336</td>\n",
       "    </tr>\n",
       "    <tr>\n",
       "      <th>2000-01-05</th>\n",
       "      <td>1402.109985</td>\n",
       "      <td>2.514410</td>\n",
       "      <td>0.083399</td>\n",
       "      <td>0.630956</td>\n",
       "      <td>-1.035572</td>\n",
       "      <td>1.088846</td>\n",
       "      <td>0.728870</td>\n",
       "      <td>0.971358</td>\n",
       "      <td>2.531107</td>\n",
       "      <td>0.271130</td>\n",
       "    </tr>\n",
       "    <tr>\n",
       "      <th>2000-01-06</th>\n",
       "      <td>1403.449951</td>\n",
       "      <td>2.296816</td>\n",
       "      <td>0.041485</td>\n",
       "      <td>-3.930989</td>\n",
       "      <td>1.375702</td>\n",
       "      <td>1.038816</td>\n",
       "      <td>0.746981</td>\n",
       "      <td>0.923230</td>\n",
       "      <td>2.481890</td>\n",
       "      <td>0.253019</td>\n",
       "    </tr>\n",
       "  </tbody>\n",
       "</table>\n",
       "</div>"
      ],
      "text/plain": [
       "                  SP500     Apple       R1t       R2t    R_port  sigma_port  \\\n",
       "Date                                                                          \n",
       "1999-12-31  1469.250000  2.485700       NaN       NaN       NaN         NaN   \n",
       "2000-01-03  1455.219971  2.706315 -0.416705  3.692963 -2.165170         NaN   \n",
       "2000-01-04  1399.420044  2.478144 -1.698056 -3.825181  0.235256    1.087840   \n",
       "2000-01-05  1402.109985  2.514410  0.083399  0.630956 -1.035572    1.088846   \n",
       "2000-01-06  1403.449951  2.296816  0.041485 -3.930989  1.375702    1.038816   \n",
       "\n",
       "                 w1t    sigma1    sigma2       w2t  \n",
       "Date                                                \n",
       "1999-12-31  0.776019       NaN       NaN  0.223981  \n",
       "2000-01-03  0.780401  0.691223  2.394850  0.219599  \n",
       "2000-01-04  0.722664  0.682571  2.425691  0.277336  \n",
       "2000-01-05  0.728870  0.971358  2.531107  0.271130  \n",
       "2000-01-06  0.746981  0.923230  2.481890  0.253019  "
      ]
     },
     "execution_count": 15,
     "metadata": {},
     "output_type": "execute_result"
    }
   ],
   "source": [
    "## add w1t to data with nan; add sigma1 and sigma2 to data\n",
    "data['w1t']=np.nan\n",
    "data['sigma1']=sigma1\n",
    "data['sigma2']=sigma2\n",
    "w1t=data['w1t']\n",
    "sigma1=data['sigma1']\n",
    "sigma2=data['sigma2']\n",
    "##apply the formula\n",
    "for i in range(len(data)):\n",
    "    if i+1 < len(w1t):\n",
    "        w1t.loc[w1t.index[i]]= sigma2.loc[sigma2.index[i+1]]/(sigma1.loc[sigma1.index[i+1]]+ sigma2.loc[sigma2.index[i+1]])\n",
    "data['w2t']=1-w1t\n",
    "w2t=data['w2t']\n",
    "data.head()"
   ]
  },
  {
   "cell_type": "code",
   "execution_count": 16,
   "metadata": {},
   "outputs": [
    {
     "name": "stderr",
     "output_type": "stream",
     "text": [
      "C:\\Users\\sunju\\Anaconda3\\lib\\site-packages\\ipykernel_launcher.py:10: RuntimeWarning: invalid value encountered in sqrt\n",
      "  # Remove the CWD from sys.path while we load stuff.\n"
     ]
    },
    {
     "data": {
      "text/html": [
       "<div>\n",
       "<style scoped>\n",
       "    .dataframe tbody tr th:only-of-type {\n",
       "        vertical-align: middle;\n",
       "    }\n",
       "\n",
       "    .dataframe tbody tr th {\n",
       "        vertical-align: top;\n",
       "    }\n",
       "\n",
       "    .dataframe thead th {\n",
       "        text-align: right;\n",
       "    }\n",
       "</style>\n",
       "<table border=\"1\" class=\"dataframe\">\n",
       "  <thead>\n",
       "    <tr style=\"text-align: right;\">\n",
       "      <th></th>\n",
       "      <th>SP500</th>\n",
       "      <th>Apple</th>\n",
       "      <th>R1t</th>\n",
       "      <th>R2t</th>\n",
       "      <th>R_port</th>\n",
       "      <th>sigma_port</th>\n",
       "      <th>w1t</th>\n",
       "      <th>sigma1</th>\n",
       "      <th>sigma2</th>\n",
       "      <th>w2t</th>\n",
       "    </tr>\n",
       "    <tr>\n",
       "      <th>Date</th>\n",
       "      <th></th>\n",
       "      <th></th>\n",
       "      <th></th>\n",
       "      <th></th>\n",
       "      <th></th>\n",
       "      <th></th>\n",
       "      <th></th>\n",
       "      <th></th>\n",
       "      <th></th>\n",
       "      <th></th>\n",
       "    </tr>\n",
       "  </thead>\n",
       "  <tbody>\n",
       "    <tr>\n",
       "      <th>1999-12-31</th>\n",
       "      <td>1469.250000</td>\n",
       "      <td>2.485700</td>\n",
       "      <td>NaN</td>\n",
       "      <td>NaN</td>\n",
       "      <td>NaN</td>\n",
       "      <td>NaN</td>\n",
       "      <td>0.776019</td>\n",
       "      <td>NaN</td>\n",
       "      <td>NaN</td>\n",
       "      <td>0.223981</td>\n",
       "    </tr>\n",
       "    <tr>\n",
       "      <th>2000-01-03</th>\n",
       "      <td>1455.219971</td>\n",
       "      <td>2.706315</td>\n",
       "      <td>-0.416705</td>\n",
       "      <td>3.692963</td>\n",
       "      <td>-2.174492</td>\n",
       "      <td>NaN</td>\n",
       "      <td>0.780401</td>\n",
       "      <td>0.691223</td>\n",
       "      <td>2.394850</td>\n",
       "      <td>0.219599</td>\n",
       "    </tr>\n",
       "    <tr>\n",
       "      <th>2000-01-04</th>\n",
       "      <td>1399.420044</td>\n",
       "      <td>2.478144</td>\n",
       "      <td>-1.698056</td>\n",
       "      <td>-3.825181</td>\n",
       "      <td>0.203642</td>\n",
       "      <td>0.825495</td>\n",
       "      <td>0.722664</td>\n",
       "      <td>0.682571</td>\n",
       "      <td>2.425691</td>\n",
       "      <td>0.277336</td>\n",
       "    </tr>\n",
       "    <tr>\n",
       "      <th>2000-01-05</th>\n",
       "      <td>1402.109985</td>\n",
       "      <td>2.514410</td>\n",
       "      <td>0.083399</td>\n",
       "      <td>0.630956</td>\n",
       "      <td>-1.060223</td>\n",
       "      <td>1.135855</td>\n",
       "      <td>0.728870</td>\n",
       "      <td>0.971358</td>\n",
       "      <td>2.531107</td>\n",
       "      <td>0.271130</td>\n",
       "    </tr>\n",
       "    <tr>\n",
       "      <th>2000-01-06</th>\n",
       "      <td>1403.449951</td>\n",
       "      <td>2.296816</td>\n",
       "      <td>0.041485</td>\n",
       "      <td>-3.930989</td>\n",
       "      <td>1.391080</td>\n",
       "      <td>1.066319</td>\n",
       "      <td>0.746981</td>\n",
       "      <td>0.923230</td>\n",
       "      <td>2.481890</td>\n",
       "      <td>0.253019</td>\n",
       "    </tr>\n",
       "  </tbody>\n",
       "</table>\n",
       "</div>"
      ],
      "text/plain": [
       "                  SP500     Apple       R1t       R2t    R_port  sigma_port  \\\n",
       "Date                                                                          \n",
       "1999-12-31  1469.250000  2.485700       NaN       NaN       NaN         NaN   \n",
       "2000-01-03  1455.219971  2.706315 -0.416705  3.692963 -2.174492         NaN   \n",
       "2000-01-04  1399.420044  2.478144 -1.698056 -3.825181  0.203642    0.825495   \n",
       "2000-01-05  1402.109985  2.514410  0.083399  0.630956 -1.060223    1.135855   \n",
       "2000-01-06  1403.449951  2.296816  0.041485 -3.930989  1.391080    1.066319   \n",
       "\n",
       "                 w1t    sigma1    sigma2       w2t  \n",
       "Date                                                \n",
       "1999-12-31  0.776019       NaN       NaN  0.223981  \n",
       "2000-01-03  0.780401  0.691223  2.394850  0.219599  \n",
       "2000-01-04  0.722664  0.682571  2.425691  0.277336  \n",
       "2000-01-05  0.728870  0.971358  2.531107  0.271130  \n",
       "2000-01-06  0.746981  0.923230  2.481890  0.253019  "
      ]
     },
     "execution_count": 16,
     "metadata": {},
     "output_type": "execute_result"
    }
   ],
   "source": [
    "data['R1t']=R1t\n",
    "data['R2t']=R2t\n",
    "data['R_port']=np.nan\n",
    "data['sigma_port']=np.nan\n",
    "R_port=data['R_port']\n",
    "sigma_port=data['sigma_port']\n",
    "for i in range(len(data)):\n",
    "    if i+1 < len(R1t):\n",
    "        R_port.loc[R_port.index[i+1]]=w1t.loc[w1t.index[i]]*R1t.loc[R1t.index[i+1]]+w2t.loc[w2t.index[i]]*R2t.loc[R2t.index[i+1]]\n",
    "        sigma_port.loc[sigma_port.index[i+1]]=np.sqrt(w1t.loc[w1t.index[i]]**2*sigma1.loc[sigma1.index[i+1]]**2+w2t.loc[w2t.index[i]]**2*sigma2.loc[sigma2.index[i+1]]**2+2*w1t.loc[w1t.index[i]]*w2t.loc[w2t.index[i]]*sigma1.loc[sigma1.index[i+1]]*sigma2.loc[sigma2.index[i+1]]*rho.loc[rho.index[i+1]])\n",
    "data.head()"
   ]
  },
  {
   "cell_type": "code",
   "execution_count": 18,
   "metadata": {},
   "outputs": [
    {
     "name": "stdout",
     "output_type": "stream",
     "text": [
      "VaR from t(d) distribution: 2.520\n"
     ]
    }
   ],
   "source": [
    "##1% VaR\n",
    "d = resR1t.params[5]\n",
    "tp = stats.t.ppf(0.99,d)\n",
    "VaR_t = (tp*np.sqrt((d-2)/d))\n",
    "print(\"VaR from t(d) distribution: {0:.3f}\".format(VaR_t))\n"
   ]
  },
  {
   "cell_type": "code",
   "execution_count": 19,
   "metadata": {},
   "outputs": [
    {
     "data": {
      "text/plain": [
       "<matplotlib.axes._subplots.AxesSubplot at 0x212888eccf8>"
      ]
     },
     "execution_count": 19,
     "metadata": {},
     "output_type": "execute_result"
    },
    {
     "data": {
      "image/png": "[encoded data removed]",
      "text/plain": [
       "<Figure size 432x288 with 1 Axes>"
      ]
     },
     "metadata": {
      "needs_background": "light"
     },
     "output_type": "display_data"
    }
   ],
   "source": [
    "data['VAR']=np.nan\n",
    "VAR=data['VAR']\n",
    "VAR=sigma_port*VaR_t\n",
    "VAR.plot()"
   ]
  },
  {
   "cell_type": "code",
   "execution_count": 20,
   "metadata": {},
   "outputs": [
    {
     "data": {
      "text/html": [
       "<div>\n",
       "<style scoped>\n",
       "    .dataframe tbody tr th:only-of-type {\n",
       "        vertical-align: middle;\n",
       "    }\n",
       "\n",
       "    .dataframe tbody tr th {\n",
       "        vertical-align: top;\n",
       "    }\n",
       "\n",
       "    .dataframe thead th {\n",
       "        text-align: right;\n",
       "    }\n",
       "</style>\n",
       "<table border=\"1\" class=\"dataframe\">\n",
       "  <thead>\n",
       "    <tr style=\"text-align: right;\">\n",
       "      <th></th>\n",
       "      <th>SP500</th>\n",
       "      <th>Apple</th>\n",
       "      <th>R1t</th>\n",
       "      <th>R2t</th>\n",
       "      <th>R_port</th>\n",
       "      <th>sigma_port</th>\n",
       "      <th>w1t</th>\n",
       "      <th>sigma1</th>\n",
       "      <th>sigma2</th>\n",
       "      <th>w2t</th>\n",
       "      <th>VAR</th>\n",
       "      <th>I</th>\n",
       "    </tr>\n",
       "    <tr>\n",
       "      <th>Date</th>\n",
       "      <th></th>\n",
       "      <th></th>\n",
       "      <th></th>\n",
       "      <th></th>\n",
       "      <th></th>\n",
       "      <th></th>\n",
       "      <th></th>\n",
       "      <th></th>\n",
       "      <th></th>\n",
       "      <th></th>\n",
       "      <th></th>\n",
       "      <th></th>\n",
       "    </tr>\n",
       "  </thead>\n",
       "  <tbody>\n",
       "    <tr>\n",
       "      <th>1999-12-31</th>\n",
       "      <td>1469.250000</td>\n",
       "      <td>2.485700</td>\n",
       "      <td>NaN</td>\n",
       "      <td>NaN</td>\n",
       "      <td>NaN</td>\n",
       "      <td>NaN</td>\n",
       "      <td>0.776019</td>\n",
       "      <td>NaN</td>\n",
       "      <td>NaN</td>\n",
       "      <td>0.223981</td>\n",
       "      <td>NaN</td>\n",
       "      <td>NaN</td>\n",
       "    </tr>\n",
       "    <tr>\n",
       "      <th>2000-01-03</th>\n",
       "      <td>1455.219971</td>\n",
       "      <td>2.706315</td>\n",
       "      <td>-0.416705</td>\n",
       "      <td>3.692963</td>\n",
       "      <td>-2.174492</td>\n",
       "      <td>NaN</td>\n",
       "      <td>0.780401</td>\n",
       "      <td>0.691223</td>\n",
       "      <td>2.394850</td>\n",
       "      <td>0.219599</td>\n",
       "      <td>NaN</td>\n",
       "      <td>NaN</td>\n",
       "    </tr>\n",
       "    <tr>\n",
       "      <th>2000-01-04</th>\n",
       "      <td>1399.420044</td>\n",
       "      <td>2.478144</td>\n",
       "      <td>-1.698056</td>\n",
       "      <td>-3.825181</td>\n",
       "      <td>0.203642</td>\n",
       "      <td>0.825495</td>\n",
       "      <td>0.722664</td>\n",
       "      <td>0.682571</td>\n",
       "      <td>2.425691</td>\n",
       "      <td>0.277336</td>\n",
       "      <td>NaN</td>\n",
       "      <td>0.0</td>\n",
       "    </tr>\n",
       "    <tr>\n",
       "      <th>2000-01-05</th>\n",
       "      <td>1402.109985</td>\n",
       "      <td>2.514410</td>\n",
       "      <td>0.083399</td>\n",
       "      <td>0.630956</td>\n",
       "      <td>-1.060223</td>\n",
       "      <td>1.135855</td>\n",
       "      <td>0.728870</td>\n",
       "      <td>0.971358</td>\n",
       "      <td>2.531107</td>\n",
       "      <td>0.271130</td>\n",
       "      <td>NaN</td>\n",
       "      <td>0.0</td>\n",
       "    </tr>\n",
       "    <tr>\n",
       "      <th>2000-01-06</th>\n",
       "      <td>1403.449951</td>\n",
       "      <td>2.296816</td>\n",
       "      <td>0.041485</td>\n",
       "      <td>-3.930989</td>\n",
       "      <td>1.391080</td>\n",
       "      <td>1.066319</td>\n",
       "      <td>0.746981</td>\n",
       "      <td>0.923230</td>\n",
       "      <td>2.481890</td>\n",
       "      <td>0.253019</td>\n",
       "      <td>NaN</td>\n",
       "      <td>0.0</td>\n",
       "    </tr>\n",
       "  </tbody>\n",
       "</table>\n",
       "</div>"
      ],
      "text/plain": [
       "                  SP500     Apple       R1t       R2t    R_port  sigma_port  \\\n",
       "Date                                                                          \n",
       "1999-12-31  1469.250000  2.485700       NaN       NaN       NaN         NaN   \n",
       "2000-01-03  1455.219971  2.706315 -0.416705  3.692963 -2.174492         NaN   \n",
       "2000-01-04  1399.420044  2.478144 -1.698056 -3.825181  0.203642    0.825495   \n",
       "2000-01-05  1402.109985  2.514410  0.083399  0.630956 -1.060223    1.135855   \n",
       "2000-01-06  1403.449951  2.296816  0.041485 -3.930989  1.391080    1.066319   \n",
       "\n",
       "                 w1t    sigma1    sigma2       w2t  VAR    I  \n",
       "Date                                                          \n",
       "1999-12-31  0.776019       NaN       NaN  0.223981  NaN  NaN  \n",
       "2000-01-03  0.780401  0.691223  2.394850  0.219599  NaN  NaN  \n",
       "2000-01-04  0.722664  0.682571  2.425691  0.277336  NaN  0.0  \n",
       "2000-01-05  0.728870  0.971358  2.531107  0.271130  NaN  0.0  \n",
       "2000-01-06  0.746981  0.923230  2.481890  0.253019  NaN  0.0  "
      ]
     },
     "execution_count": 20,
     "metadata": {},
     "output_type": "execute_result"
    }
   ],
   "source": [
    "#Backtest VaR\n",
    "data['I']=np.nan\n",
    "I=data['I']\n",
    "for i in range(len(data)):\n",
    "    if i+1 < len(R_port):\n",
    "        if R_port.loc[R_port.index[i+1]]<-VAR.loc[VAR.index[i+1]]:\n",
    "            I.loc[I.index[i+1]]=1\n",
    "        elif R_port.loc[R_port.index[i+1]]>=-VAR.loc[VAR.index[i+1]]:\n",
    "            I.loc[I.index[i+1]]=0  \n",
    "data['I']=I\n",
    "data.head()"
   ]
  },
  {
   "cell_type": "code",
   "execution_count": 21,
   "metadata": {},
   "outputs": [
    {
     "name": "stdout",
     "output_type": "stream",
     "text": [
      "0.16065460232245474 27.236524793524627\n"
     ]
    }
   ],
   "source": [
    "##unconditional coverage\n",
    "T1=np.sum(I)\n",
    "T=len(I)\n",
    "pi_hat=T1/T\n",
    "p=0.01\n",
    "LR_uc=-2*np.log((p**T1*(1-p)**(T-T1))/(pi_hat**T1*(1-pi_hat)**(T-T1)))\n",
    "t=(pi_hat-p)/(np.sqrt(p*(1-p))/T)\n",
    "print(LR_uc,t)\n",
    "##the 5% critical value for t test and LR test are 1.96 and 3..84 respectively. \n",
    "##They both lie in rejection region. So unconditional coverage are rejected."
   ]
  },
  {
   "cell_type": "code",
   "execution_count": 22,
   "metadata": {
    "scrolled": true
   },
   "outputs": [
    {
     "name": "stdout",
     "output_type": "stream",
     "text": [
      "                            OLS Regression Results                            \n",
      "==============================================================================\n",
      "Dep. Variable:                      y   R-squared:                       1.000\n",
      "Model:                            OLS   Adj. R-squared:                  1.000\n",
      "Method:                 Least Squares   F-statistic:                 1.102e+33\n",
      "Date:                Sun, 15 Mar 2020   Prob (F-statistic):               0.00\n",
      "Time:                        22:34:56   Log-Likelihood:             1.5702e+05\n",
      "No. Observations:                4526   AIC:                        -3.140e+05\n",
      "Df Residuals:                    4524   BIC:                        -3.140e+05\n",
      "Df Model:                           1                                         \n",
      "Covariance Type:            nonrobust                                         \n",
      "==============================================================================\n",
      "                 coef    std err          t      P>|t|      [0.025      0.975]\n",
      "------------------------------------------------------------------------------\n",
      "const      -2.732e-17    3.1e-18     -8.806      0.000   -3.34e-17   -2.12e-17\n",
      "I              1.0000   3.01e-17   3.32e+16      0.000       1.000       1.000\n",
      "==============================================================================\n",
      "Omnibus:                     6788.024   Durbin-Watson:                   1.978\n",
      "Prob(Omnibus):                  0.000   Jarque-Bera (JB):          1572808.694\n",
      "Skew:                          -9.555   Prob(JB):                         0.00\n",
      "Kurtosis:                      92.302   Cond. No.                         9.76\n",
      "==============================================================================\n",
      "\n",
      "Warnings:\n",
      "[1] Standard Errors assume that the covariance matrix of the errors is correctly specified.\n"
     ]
    },
    {
     "name": "stderr",
     "output_type": "stream",
     "text": [
      "C:\\Users\\sunju\\Anaconda3\\lib\\site-packages\\numpy\\core\\fromnumeric.py:2223: FutureWarning: Method .ptp is deprecated and will be removed in a future version. Use numpy.ptp instead.\n",
      "  return ptp(axis=axis, out=out, **kwargs)\n"
     ]
    }
   ],
   "source": [
    "##independence testing\n",
    "I1=I.shift(1).dropna()\n",
    "x=I1\n",
    "y=I.dropna()\n",
    "y=list(y)\n",
    "x = sm.add_constant(x)\n",
    "mod=sm.OLS(y, x)\n",
    "result= mod.fit()\n",
    "print(result.summary())"
   ]
  },
  {
   "cell_type": "code",
   "execution_count": 23,
   "metadata": {},
   "outputs": [
    {
     "name": "stdout",
     "output_type": "stream",
     "text": [
      "                             Test for Constraints                             \n",
      "==============================================================================\n",
      "                 coef    std err          t      P>|t|      [0.025      0.975]\n",
      "------------------------------------------------------------------------------\n",
      "c0             1.0000   3.01e-17   3.32e+16      0.000       1.000       1.000\n",
      "==============================================================================\n"
     ]
    }
   ],
   "source": [
    "#test hypothesis\n",
    "H=['I=0']\n",
    "ttest=result.t_test(H)\n",
    "print(ttest)"
   ]
  },
  {
   "cell_type": "markdown",
   "metadata": {},
   "source": [
    "t statistic for coefficient of I is in the rejection range, so independence test is rejected. The t statistic obtained here is extremely large, there might be autocorrelation problem.\n",
    "Since unconditional coverage and independence test are both rejected, expected shortfall test thus is also rejected."
   ]
  }
 ],
 "metadata": {
  "kernelspec": {
   "display_name": "Python 3",
   "language": "python",
   "name": "python3"
  },
  "language_info": {
   "codemirror_mode": {
    "name": "ipython",
    "version": 3
   },
   "file_extension": ".py",
   "mimetype": "text/x-python",
   "name": "python",
   "nbconvert_exporter": "python",
   "pygments_lexer": "ipython3",
   "version": "3.7.0"
  }
 },
 "nbformat": 4,
 "nbformat_minor": 2
}
